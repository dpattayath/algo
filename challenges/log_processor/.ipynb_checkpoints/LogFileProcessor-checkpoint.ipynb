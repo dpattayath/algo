{
 "cells": [
  {
   "cell_type": "code",
   "execution_count": 56,
   "metadata": {},
   "outputs": [
    {
     "name": "stdout",
     "output_type": "stream",
     "text": [
      "{'401': 77096, '200': 275675}\n"
     ]
    }
   ],
   "source": [
    "import re\n",
    "payload = {}\n",
    "with open(\"apache.log\", \"r\") as logfile:\n",
    "    for line in logfile:\n",
    "        line = re.sub('\\\"|\\[|\\]|-','',line)\n",
    "        line = re.sub('\\s{2,}', ' ', line)\n",
    "        (ip,datetime,offset,method,path,protocol,code,size) = line.split(' ')\n",
    "        # print(ip,datetime,offset,method,path,protocol,code,size)\n",
    "        payload[code] = payload.get(code, 0) + int(size)\n",
    "print(payload)"
   ]
  },
  {
   "cell_type": "code",
   "execution_count": null,
   "metadata": {},
   "outputs": [],
   "source": []
  },
  {
   "cell_type": "code",
   "execution_count": null,
   "metadata": {},
   "outputs": [],
   "source": []
  }
 ],
 "metadata": {
  "kernelspec": {
   "display_name": "Python 3",
   "language": "python",
   "name": "python3"
  },
  "language_info": {
   "codemirror_mode": {
    "name": "ipython",
    "version": 3
   },
   "file_extension": ".py",
   "mimetype": "text/x-python",
   "name": "python",
   "nbconvert_exporter": "python",
   "pygments_lexer": "ipython3",
   "version": "3.7.3"
  }
 },
 "nbformat": 4,
 "nbformat_minor": 2
}
