{
 "cells": [
  {
   "cell_type": "code",
   "execution_count": 84,
   "metadata": {},
   "outputs": [
    {
     "name": "stdout",
     "output_type": "stream",
     "text": [
      "{'random.co.uk': 2, 'www.example.com': 6, 'news.co.uk': 4, 'kerala.co.uk': 2, 'www.google.com': 2}\n"
     ]
    }
   ],
   "source": [
    "import re\n",
    "domains = {}\n",
    "with open(\"google-log.txt\") as logfile:\n",
    "    for line in logfile:\n",
    "        mat = re.search('(http|https)://(.*)/', line)\n",
    "        if (mat):\n",
    "            domain = mat.group(2)\n",
    "            domains[domain] = domains.get(domain, 0) + 1\n",
    "print(domains)"
   ]
  },
  {
   "cell_type": "code",
   "execution_count": null,
   "metadata": {},
   "outputs": [],
   "source": []
  },
  {
   "cell_type": "code",
   "execution_count": null,
   "metadata": {},
   "outputs": [],
   "source": []
  }
 ],
 "metadata": {
  "kernelspec": {
   "display_name": "Python 3",
   "language": "python",
   "name": "python3"
  },
  "language_info": {
   "codemirror_mode": {
    "name": "ipython",
    "version": 3
   },
   "file_extension": ".py",
   "mimetype": "text/x-python",
   "name": "python",
   "nbconvert_exporter": "python",
   "pygments_lexer": "ipython3",
   "version": "3.7.3"
  }
 },
 "nbformat": 4,
 "nbformat_minor": 2
}
