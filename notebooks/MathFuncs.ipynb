{
 "cells": [
  {
   "cell_type": "code",
   "execution_count": 22,
   "metadata": {},
   "outputs": [
    {
     "name": "stdout",
     "output_type": "stream",
     "text": [
      "False\n"
     ]
    }
   ],
   "source": [
    "# prime number\n",
    "def isPrime(n):\n",
    "    if n in [2,3,5]:\n",
    "        return True\n",
    "    elif n % 2 == 0 or n % 3 == 0 or n % 5 == 0 or n % 7 == 0:\n",
    "        return False\n",
    "    return True\n",
    "\n",
    "print(isPrime(49))"
   ]
  },
  {
   "cell_type": "code",
   "execution_count": null,
   "metadata": {},
   "outputs": [],
   "source": [
    "# gcd, lcd"
   ]
  },
  {
   "cell_type": "code",
   "execution_count": 71,
   "metadata": {},
   "outputs": [
    {
     "name": "stdout",
     "output_type": "stream",
     "text": [
      "3.0\n",
      "6\n",
      "(6, 2)\n"
     ]
    }
   ],
   "source": [
    "# median, mean and mode\n",
    "'''\n",
    "In its simplest mathematical definition regarding data sets, the mean used is the arithmetic mean, \n",
    "also referred to as mathematical expectation, or average. In this form, the mean refers to an intermediate \n",
    "value between a discrete set of numbers, namely, the sum of all values in the data set, divided by the total number of values\n",
    "'''\n",
    "def mean(source):\n",
    "    n = 0\n",
    "    for i in source:\n",
    "        n += i\n",
    "    return n / len(source)\n",
    "print(mean([1,2,3,4,5]))\n",
    "\n",
    "'''\n",
    "The statistical concept of the median is a value that divides a data sample, population, or probability distribution into two halves\n",
    "'''\n",
    "def median(source):\n",
    "    mid = len(source) // 2\n",
    "    source.sort()\n",
    "    return source[mid]\n",
    "print(median([5,6,1,2,7,8]))\n",
    "\n",
    "def mode(source):\n",
    "    mappings = {}\n",
    "    for i in source:\n",
    "        val = mappings.setdefault(i, 0)\n",
    "        mappings[i] = val + 1\n",
    "    sorted_dict = sorted(mappings.items(), key=lambda x: x[1], reverse=True)[0]\n",
    "    return sorted_dict\n",
    "        \n",
    "print(mode([5,6,1,2,7,8,6,3,3]))"
   ]
  },
  {
   "cell_type": "code",
   "execution_count": 38,
   "metadata": {},
   "outputs": [
    {
     "name": "stdout",
     "output_type": "stream",
     "text": [
      "Help on built-in function setdefault:\n",
      "\n",
      "setdefault(key, default=None, /) method of builtins.dict instance\n",
      "    Insert key with a value of default if key is not in the dictionary.\n",
      "    \n",
      "    Return the value for key if key is in the dictionary, else default.\n",
      "\n"
     ]
    }
   ],
   "source": [
    "help({}.setdefault)"
   ]
  },
  {
   "cell_type": "code",
   "execution_count": 58,
   "metadata": {},
   "outputs": [
    {
     "name": "stdout",
     "output_type": "stream",
     "text": [
      "Help on built-in function fromkeys:\n",
      "\n",
      "fromkeys(iterable, value=None, /) method of builtins.type instance\n",
      "    Create a new dictionary with keys from iterable and values set to value.\n",
      "\n"
     ]
    }
   ],
   "source": [
    "help({}.fromkeys)"
   ]
  },
  {
   "cell_type": "code",
   "execution_count": 50,
   "metadata": {},
   "outputs": [
    {
     "name": "stdout",
     "output_type": "stream",
     "text": [
      "Help on built-in function sorted in module builtins:\n",
      "\n",
      "sorted(iterable, /, *, key=None, reverse=False)\n",
      "    Return a new list containing all items from the iterable in ascending order.\n",
      "    \n",
      "    A custom key function can be supplied to customize the sort order, and the\n",
      "    reverse flag can be set to request the result in descending order.\n",
      "\n"
     ]
    }
   ],
   "source": [
    "help(sorted)"
   ]
  },
  {
   "cell_type": "code",
   "execution_count": null,
   "metadata": {},
   "outputs": [],
   "source": []
  }
 ],
 "metadata": {
  "kernelspec": {
   "display_name": "Python 3",
   "language": "python",
   "name": "python3"
  },
  "language_info": {
   "codemirror_mode": {
    "name": "ipython",
    "version": 3
   },
   "file_extension": ".py",
   "mimetype": "text/x-python",
   "name": "python",
   "nbconvert_exporter": "python",
   "pygments_lexer": "ipython3",
   "version": "3.7.7"
  }
 },
 "nbformat": 4,
 "nbformat_minor": 4
}
