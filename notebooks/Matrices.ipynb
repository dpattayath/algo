{
 "cells": [
  {
   "cell_type": "code",
   "execution_count": 31,
   "metadata": {},
   "outputs": [],
   "source": [
    "M = [[1,-2,3], [4,5,6]]\n",
    "N = [[1,2,3], [4,5,6]]"
   ]
  },
  {
   "cell_type": "code",
   "execution_count": null,
   "metadata": {},
   "outputs": [],
   "source": []
  },
  {
   "cell_type": "code",
   "execution_count": 35,
   "metadata": {},
   "outputs": [
    {
     "data": {
      "text/plain": [
       "[[2, 0, 6], [8, 10, 12]]"
      ]
     },
     "execution_count": 35,
     "metadata": {},
     "output_type": "execute_result"
    }
   ],
   "source": [
    "# matrix addition\n",
    "\n",
    "res = []\n",
    "for i in range(len(M)):\n",
    "    res.append([])\n",
    "    for j in range(len(M[i])):\n",
    "        res[i].append(M[i][j] + N[i][j])\n",
    "# print(res)\n",
    "\n",
    "[[M[i][j] + N[i][j] for j in range(len(M[i]))] for i in range(len(M))]"
   ]
  },
  {
   "cell_type": "code",
   "execution_count": 36,
   "metadata": {},
   "outputs": [
    {
     "data": {
      "text/plain": [
       "[[-1, 2, -3], [-4, -5, -6]]"
      ]
     },
     "execution_count": 36,
     "metadata": {},
     "output_type": "execute_result"
    }
   ],
   "source": [
    "# matrix negation\n",
    "\n",
    "# res = []\n",
    "# for i in range(len(M)):\n",
    "#     res.append([])\n",
    "#     for j in range(len(M[i])):\n",
    "#         res[i].append(0-M[i][j])\n",
    "# print(res)\n",
    "\n",
    "[[0-M[i][j] for j in range(len(M[i]))] for i in range(len(M))]"
   ]
  },
  {
   "cell_type": "code",
   "execution_count": 44,
   "metadata": {},
   "outputs": [
    {
     "data": {
      "text/plain": [
       "[[0, -4, 0], [0, 0, 0]]"
      ]
     },
     "execution_count": 44,
     "metadata": {},
     "output_type": "execute_result"
    }
   ],
   "source": [
    "# matrix substraction\n",
    "\n",
    "# res = []\n",
    "# for i in range(len(M)):\n",
    "#     res.append([])\n",
    "#     for j in range(len(M[i])):\n",
    "#         res[i].append(M[i][j] - N[i][j])\n",
    "# print(res)\n",
    "\n",
    "[[M[i][j] - N[i][j] for j in range(len(M[i]))] for i in range(len(M))]"
   ]
  },
  {
   "cell_type": "code",
   "execution_count": 45,
   "metadata": {},
   "outputs": [
    {
     "name": "stdout",
     "output_type": "stream",
     "text": [
      "[[2, -4, 6], [8, 10, 12]]\n"
     ]
    }
   ],
   "source": [
    "# scalar multiplication\n",
    "\n",
    "res = []\n",
    "for i in range(len(M)):\n",
    "    res.append([])\n",
    "    for j in range(len(M[i])):\n",
    "        res[i].append(M[i][j] * 2)\n",
    "print(res)"
   ]
  },
  {
   "cell_type": "code",
   "execution_count": 106,
   "metadata": {},
   "outputs": [
    {
     "data": {
      "text/plain": [
       "[[1, 4], [-2, 5], [3, 6]]"
      ]
     },
     "execution_count": 106,
     "metadata": {},
     "output_type": "execute_result"
    }
   ],
   "source": [
    "# transpose of a matrix - M(T)\n",
    "# M = [\n",
    "#     [1,-2,3],\n",
    "#     [4,5,6]\n",
    "# ]\n",
    "# M(T) = [\n",
    "#     [1,4],\n",
    "#     [-2, 5],\n",
    "#     [3, 6]\n",
    "# ]\n",
    "\n",
    "# res = []\n",
    "# for j in range(len(M[0])):\n",
    "#     res.append([])\n",
    "#     for i in range(len(M)):\n",
    "#         res[j].append(M[i][j])\n",
    "# print(res)\n",
    "\n",
    "[[M[i][j] for i in range(len(M))] for j in range(len(M[0]))]\n"
   ]
  },
  {
   "cell_type": "code",
   "execution_count": 107,
   "metadata": {},
   "outputs": [],
   "source": [
    "# Identity Matrix\n",
    "I = [[1,0,0],[0,1,0],[0,0,1]]"
   ]
  },
  {
   "cell_type": "code",
   "execution_count": 1,
   "metadata": {},
   "outputs": [
    {
     "data": {
      "text/plain": [
       "array([[ 0.6, -0.7],\n",
       "       [-0.2,  0.4]])"
      ]
     },
     "execution_count": 1,
     "metadata": {},
     "output_type": "execute_result"
    }
   ],
   "source": [
    "# Inverse of a matrix\n",
    "# [[a,b],[c,d]]\n",
    "# 1/ad-bc[[d,-b],[-c,a]]\n",
    "\n",
    "L = [[4,7],[2,6]]\n",
    "\n",
    "import numpy as np\n",
    "Li = np.linalg.inv(L)\n",
    "Li"
   ]
  },
  {
   "cell_type": "code",
   "execution_count": 6,
   "metadata": {},
   "outputs": [
    {
     "name": "stdout",
     "output_type": "stream",
     "text": [
      "[[58, 64], [139, 154]]\n"
     ]
    }
   ],
   "source": [
    "A = [[1,2,3], [4,5,6]]\n",
    "B = [[7,8],[9,10],[11,12]]\n",
    "\n",
    "res = [[0,0],[0,0]]\n",
    "for i in range(len(A)):\n",
    "    for j in range(len(B[0])):\n",
    "        for k in range(len(B)):\n",
    "            res[i][j] += A[i][k] * B[k][j]\n",
    "print(res)"
   ]
  },
  {
   "cell_type": "code",
   "execution_count": null,
   "metadata": {},
   "outputs": [],
   "source": []
  }
 ],
 "metadata": {
  "kernelspec": {
   "display_name": "Python 3",
   "language": "python",
   "name": "python3"
  },
  "language_info": {
   "codemirror_mode": {
    "name": "ipython",
    "version": 3
   },
   "file_extension": ".py",
   "mimetype": "text/x-python",
   "name": "python",
   "nbconvert_exporter": "python",
   "pygments_lexer": "ipython3",
   "version": "3.7.7"
  }
 },
 "nbformat": 4,
 "nbformat_minor": 4
}
